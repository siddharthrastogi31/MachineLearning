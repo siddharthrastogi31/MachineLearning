{
 "cells": [
  {
   "cell_type": "markdown",
   "id": "d404f2b2",
   "metadata": {},
   "source": [
    "## Sckit Learn Machine Learning - Diabetes dataset"
   ]
  },
  {
   "cell_type": "code",
   "execution_count": 1,
   "id": "84a5079e",
   "metadata": {},
   "outputs": [],
   "source": [
    "import numpy as np\n",
    "import pandas as pd\n",
    "from pandas import DataFrame, Series\n",
    "import numpy.random as npr\n",
    "import matplotlib.pyplot as plt"
   ]
  },
  {
   "cell_type": "markdown",
   "id": "2154215b",
   "metadata": {},
   "source": [
    "## Machine Learning :\n",
    "-  A machine learning (ML) algorithm uses experience or data to make predictions about future events\n",
    "or observations. ML problems involve observations (dependent variable) and features (explanatory\n",
    "variables). The algorithm searches for relationships between the features and observations, such\n",
    "that future observations can be predicted."
   ]
  },
  {
   "cell_type": "markdown",
   "id": "341cc0fd",
   "metadata": {},
   "source": [
    "The scikit-learn (often shortened to sklearn) package is a very comprehensive set of ML tools for\n",
    "fitting and evaluating prediction methods\n",
    "All of the methods are fitted in roughly the same manner, making it very easy to learn and hence\n",
    "compare the performance of different methods."
   ]
  },
  {
   "cell_type": "code",
   "execution_count": 5,
   "id": "a263a063",
   "metadata": {},
   "outputs": [],
   "source": [
    "from sklearn import datasets"
   ]
  },
  {
   "cell_type": "code",
   "execution_count": 6,
   "id": "a2e4eabd",
   "metadata": {},
   "outputs": [],
   "source": [
    "diabetes = datasets.load_diabetes()"
   ]
  },
  {
   "cell_type": "code",
   "execution_count": 10,
   "id": "33fea710",
   "metadata": {},
   "outputs": [
    {
     "data": {
      "text/plain": [
       "['age', 'sex', 'bmi', 'bp', 's1', 's2', 's3', 's4', 's5', 's6']"
      ]
     },
     "execution_count": 10,
     "metadata": {},
     "output_type": "execute_result"
    }
   ],
   "source": [
    "# showing feature names in diabestes dataset\n",
    "diabetes.feature_names"
   ]
  },
  {
   "cell_type": "code",
   "execution_count": 18,
   "id": "59a36701",
   "metadata": {},
   "outputs": [],
   "source": [
    "# converting to dataframe\n",
    "X_raw = DataFrame(diabetes.data,columns=diabetes.feature_names)\n",
    "# standardizing feature matrix\n",
    "X_std = (X_raw - X_raw.mean())/X_raw.std()\n",
    "X = X_std\n",
    "y = Series(diabetes.target)"
   ]
  },
  {
   "cell_type": "code",
   "execution_count": 19,
   "id": "85cea7ca",
   "metadata": {
    "scrolled": true
   },
   "outputs": [
    {
     "data": {
      "text/html": [
       "<div>\n",
       "<style scoped>\n",
       "    .dataframe tbody tr th:only-of-type {\n",
       "        vertical-align: middle;\n",
       "    }\n",
       "\n",
       "    .dataframe tbody tr th {\n",
       "        vertical-align: top;\n",
       "    }\n",
       "\n",
       "    .dataframe thead th {\n",
       "        text-align: right;\n",
       "    }\n",
       "</style>\n",
       "<table border=\"1\" class=\"dataframe\">\n",
       "  <thead>\n",
       "    <tr style=\"text-align: right;\">\n",
       "      <th></th>\n",
       "      <th>age</th>\n",
       "      <th>sex</th>\n",
       "      <th>bmi</th>\n",
       "      <th>bp</th>\n",
       "      <th>s1</th>\n",
       "      <th>s2</th>\n",
       "      <th>s3</th>\n",
       "      <th>s4</th>\n",
       "      <th>s5</th>\n",
       "      <th>s6</th>\n",
       "    </tr>\n",
       "  </thead>\n",
       "  <tbody>\n",
       "    <tr>\n",
       "      <th>0</th>\n",
       "      <td>0.799594</td>\n",
       "      <td>1.064282</td>\n",
       "      <td>1.295620</td>\n",
       "      <td>0.459319</td>\n",
       "      <td>-0.928693</td>\n",
       "      <td>-0.731236</td>\n",
       "      <td>-0.911418</td>\n",
       "      <td>-0.054438</td>\n",
       "      <td>0.418077</td>\n",
       "      <td>-0.370569</td>\n",
       "    </tr>\n",
       "    <tr>\n",
       "      <th>1</th>\n",
       "      <td>-0.039522</td>\n",
       "      <td>-0.937474</td>\n",
       "      <td>-1.080955</td>\n",
       "      <td>-0.552885</td>\n",
       "      <td>-0.177423</td>\n",
       "      <td>-0.402430</td>\n",
       "      <td>1.562643</td>\n",
       "      <td>-0.829361</td>\n",
       "      <td>-1.434925</td>\n",
       "      <td>-1.936285</td>\n",
       "    </tr>\n",
       "    <tr>\n",
       "      <th>2</th>\n",
       "      <td>1.791277</td>\n",
       "      <td>1.064282</td>\n",
       "      <td>0.933475</td>\n",
       "      <td>-0.119083</td>\n",
       "      <td>-0.957588</td>\n",
       "      <td>-0.718084</td>\n",
       "      <td>-0.679475</td>\n",
       "      <td>-0.054438</td>\n",
       "      <td>0.060139</td>\n",
       "      <td>-0.544537</td>\n",
       "    </tr>\n",
       "    <tr>\n",
       "      <th>3</th>\n",
       "      <td>-1.870322</td>\n",
       "      <td>-0.937474</td>\n",
       "      <td>-0.243495</td>\n",
       "      <td>-0.769785</td>\n",
       "      <td>0.256002</td>\n",
       "      <td>0.524802</td>\n",
       "      <td>-0.756789</td>\n",
       "      <td>0.720486</td>\n",
       "      <td>0.476532</td>\n",
       "      <td>-0.196600</td>\n",
       "    </tr>\n",
       "    <tr>\n",
       "      <th>4</th>\n",
       "      <td>0.113044</td>\n",
       "      <td>-0.937474</td>\n",
       "      <td>-0.764079</td>\n",
       "      <td>0.459319</td>\n",
       "      <td>0.082632</td>\n",
       "      <td>0.327519</td>\n",
       "      <td>0.170984</td>\n",
       "      <td>-0.054438</td>\n",
       "      <td>-0.671820</td>\n",
       "      <td>-0.979458</td>\n",
       "    </tr>\n",
       "  </tbody>\n",
       "</table>\n",
       "</div>"
      ],
      "text/plain": [
       "        age       sex       bmi        bp        s1        s2        s3  \\\n",
       "0  0.799594  1.064282  1.295620  0.459319 -0.928693 -0.731236 -0.911418   \n",
       "1 -0.039522 -0.937474 -1.080955 -0.552885 -0.177423 -0.402430  1.562643   \n",
       "2  1.791277  1.064282  0.933475 -0.119083 -0.957588 -0.718084 -0.679475   \n",
       "3 -1.870322 -0.937474 -0.243495 -0.769785  0.256002  0.524802 -0.756789   \n",
       "4  0.113044 -0.937474 -0.764079  0.459319  0.082632  0.327519  0.170984   \n",
       "\n",
       "         s4        s5        s6  \n",
       "0 -0.054438  0.418077 -0.370569  \n",
       "1 -0.829361 -1.434925 -1.936285  \n",
       "2 -0.054438  0.060139 -0.544537  \n",
       "3  0.720486  0.476532 -0.196600  \n",
       "4 -0.054438 -0.671820 -0.979458  "
      ]
     },
     "execution_count": 19,
     "metadata": {},
     "output_type": "execute_result"
    }
   ],
   "source": [
    "X.head()"
   ]
  },
  {
   "cell_type": "markdown",
   "id": "8cf8fa2c",
   "metadata": {},
   "source": [
    "### Training and Test set\n",
    "\n",
    "We have 442 observations so will split the data into training and test sets of size 332 and 110\n",
    "respectively. Importantly, the data for each set must be selected randomly and each observation\n",
    "must only appear in one of the sets."
   ]
  },
  {
   "cell_type": "code",
   "execution_count": 20,
   "id": "af977988",
   "metadata": {},
   "outputs": [],
   "source": [
    "train_size = 332\n",
    "np.random.seed(123)\n",
    "train_select = np.random.permutation(range(len(y)))\n",
    "X_train = X.iloc[train_select[:train_size],:].reset_index(drop=True)\n",
    "X_test = X.iloc[train_select[train_size:],:].reset_index(drop=True)\n",
    "y_train = y[train_select[:train_size]].reset_index(drop=True)\n",
    "y_test = y[train_select[train_size:]].reset_index(drop=True)"
   ]
  },
  {
   "cell_type": "markdown",
   "id": "b54bc252",
   "metadata": {},
   "source": [
    "### Regression"
   ]
  },
  {
   "cell_type": "code",
   "execution_count": 30,
   "id": "f14e4e32",
   "metadata": {},
   "outputs": [],
   "source": [
    "# import linear_model from sklearn\n",
    "from sklearn import linear_model"
   ]
  },
  {
   "cell_type": "code",
   "execution_count": 22,
   "id": "b4b7c0db",
   "metadata": {},
   "outputs": [
    {
     "data": {
      "text/plain": [
       "LinearRegression()"
      ]
     },
     "execution_count": 22,
     "metadata": {},
     "output_type": "execute_result"
    }
   ],
   "source": [
    "reg = linear_model.LinearRegression()\n",
    "reg.fit(X_train,y_train)"
   ]
  },
  {
   "cell_type": "code",
   "execution_count": 23,
   "id": "080a6896",
   "metadata": {
    "scrolled": false
   },
   "outputs": [
    {
     "data": {
      "text/plain": [
       "array([ -0.1969964 , -14.06282061,  24.3095999 ,  12.74122201,\n",
       "       -26.31223713,  11.39253497,   2.04720508,   9.09215082,\n",
       "        36.80321586,   2.26848318])"
      ]
     },
     "execution_count": 23,
     "metadata": {},
     "output_type": "execute_result"
    }
   ],
   "source": [
    "reg.coef_"
   ]
  },
  {
   "cell_type": "markdown",
   "id": "7bdbda2f",
   "metadata": {},
   "source": [
    "We can also use the model to predict the response variable for unseen data, such as the test data."
   ]
  },
  {
   "cell_type": "code",
   "execution_count": 25,
   "id": "71024087",
   "metadata": {},
   "outputs": [],
   "source": [
    "reg_test_pred = reg.predict(X_test)"
   ]
  },
  {
   "cell_type": "markdown",
   "id": "16f72cae",
   "metadata": {},
   "source": [
    "A sensible way to assess the model’s performance is to plot the actual values of y versus the\n",
    "predictions."
   ]
  },
  {
   "cell_type": "code",
   "execution_count": 26,
   "id": "43936557",
   "metadata": {
    "scrolled": true
   },
   "outputs": [
    {
     "data": {
      "text/plain": [
       "[<matplotlib.lines.Line2D at 0x7fc40118e5b0>]"
      ]
     },
     "execution_count": 26,
     "metadata": {},
     "output_type": "execute_result"
    },
    {
     "data": {
      "image/png": "[encoded data removed]",
      "text/plain": [
       "<Figure size 432x288 with 1 Axes>"
      ]
     },
     "metadata": {
      "needs_background": "light"
     },
     "output_type": "display_data"
    }
   ],
   "source": [
    "fig = plt.figure()\n",
    "plt.plot(y_test,reg_test_pred,'kx')\n",
    "plt.plot(plt.xlim(), plt.ylim(), ls=\"--\")"
   ]
  },
  {
   "cell_type": "markdown",
   "id": "6864403b",
   "metadata": {},
   "source": [
    "The mean square error (MSE) will also tell us how well the model performs. The MSE is a measure\n",
    "of the discrepancy between the data and an estimation model, where a small value indicates a tight\n",
    "fit."
   ]
  },
  {
   "cell_type": "code",
   "execution_count": 27,
   "id": "601e0e7b",
   "metadata": {
    "scrolled": true
   },
   "outputs": [
    {
     "name": "stdout",
     "output_type": "stream",
     "text": [
      "3316.122587674067\n"
     ]
    }
   ],
   "source": [
    "MSE_reg = np.mean(pow((reg_test_pred - y_test),2))\n",
    "print(MSE_reg)"
   ]
  },
  {
   "cell_type": "markdown",
   "id": "1083760a",
   "metadata": {},
   "source": [
    "#### Generally, we compare MSE values with other other models and compare if the value is small or not."
   ]
  }
 ],
 "metadata": {
  "kernelspec": {
   "display_name": "Python 3 (ipykernel)",
   "language": "python",
   "name": "python3"
  },
  "language_info": {
   "codemirror_mode": {
    "name": "ipython",
    "version": 3
   },
   "file_extension": ".py",
   "mimetype": "text/x-python",
   "name": "python",
   "nbconvert_exporter": "python",
   "pygments_lexer": "ipython3",
   "version": "3.9.7"
  }
 },
 "nbformat": 4,
 "nbformat_minor": 5
}
